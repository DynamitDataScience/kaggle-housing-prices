{
 "cells": [
  {
   "cell_type": "code",
   "execution_count": 1,
   "metadata": {
    "collapsed": false
   },
   "outputs": [],
   "source": [
    "import pandas as pd\n",
    "import feather\n",
    "from sklearn.model_selection import train_test_split"
   ]
  },
  {
   "cell_type": "markdown",
   "metadata": {},
   "source": [
    "## Purpose\n",
    "Load the data and sample it for rapid training."
   ]
  },
  {
   "cell_type": "markdown",
   "metadata": {},
   "source": [
    "## Load the data\n",
    "Here we read from the feather binaries"
   ]
  },
  {
   "cell_type": "code",
   "execution_count": 2,
   "metadata": {
    "collapsed": false
   },
   "outputs": [],
   "source": [
    "# Paths to the binary data\n",
    "trainPath = '../../../data/binary/train.feather'\n",
    "testPath = '../../../data/binary/test.feather'\n",
    "\n",
    "# Create the pandas dataframes\n",
    "dfTrain = feather.read_dataframe(trainPath)\n",
    "dfTest = feather.read_dataframe(testPath)"
   ]
  },
  {
   "cell_type": "markdown",
   "metadata": {},
   "source": [
    "## Sample\n",
    "Randomly sample the data"
   ]
  },
  {
   "cell_type": "code",
   "execution_count": 3,
   "metadata": {
    "collapsed": false
   },
   "outputs": [],
   "source": [
    "sampleFrac = 0.05\n",
    "dfTrainSample = dfTrain.sample(frac=sampleFrac)\n",
    "dfTestSample = dfTest.sample(frac=sampleFrac)"
   ]
  },
  {
   "cell_type": "markdown",
   "metadata": {},
   "source": [
    "Save the sample data"
   ]
  },
  {
   "cell_type": "code",
   "execution_count": 4,
   "metadata": {
    "collapsed": true
   },
   "outputs": [],
   "source": [
    "# Paths for the sampled data\n",
    "trainSamplePath = '../../../data/sample/train.csv'\n",
    "testSamplePath = '../../../data/sample/test.csv'\n",
    "\n",
    "# Write to disc\n",
    "dfTrainSample.to_csv(trainSamplePath)\n",
    "dfTestSample.to_csv(testSamplePath)"
   ]
  }
 ],
 "metadata": {
  "kernelspec": {
   "display_name": "Python 2",
   "language": "python",
   "name": "python2"
  },
  "language_info": {
   "codemirror_mode": {
    "name": "ipython",
    "version": 2
   },
   "file_extension": ".py",
   "mimetype": "text/x-python",
   "name": "python",
   "nbconvert_exporter": "python",
   "pygments_lexer": "ipython2",
   "version": "2.7.13"
  }
 },
 "nbformat": 4,
 "nbformat_minor": 2
}
