{
 "cells": [
  {
   "cell_type": "code",
   "execution_count": 1,
   "metadata": {
    "collapsed": true
   },
   "outputs": [],
   "source": [
    "import feather\n",
    "import pandas as pd"
   ]
  },
  {
   "cell_type": "markdown",
   "metadata": {},
   "source": [
    "## Purpose\n",
    "Convert the large .csv data files into .feather format for faster loading."
   ]
  },
  {
   "cell_type": "markdown",
   "metadata": {},
   "source": [
    "## Data Load\n",
    "First load in the original datasets as pandas dataframes."
   ]
  },
  {
   "cell_type": "code",
   "execution_count": 2,
   "metadata": {
    "collapsed": true
   },
   "outputs": [],
   "source": [
    "# The training data\n",
    "pathTrain = '../../data/full/train.csv';\n",
    "dfTrain = pd.read_csv(pathTrain);\n",
    "\n",
    "# The test data\n",
    "pathTest = '../../data/full/test.csv';\n",
    "dfTest = pd.read_csv(pathTest);"
   ]
  },
  {
   "cell_type": "markdown",
   "metadata": {},
   "source": [
    "## Data Dump\n",
    "Now save the files as feather binaries."
   ]
  },
  {
   "cell_type": "code",
   "execution_count": 4,
   "metadata": {
    "collapsed": false
   },
   "outputs": [],
   "source": [
    "# The training data\n",
    "pathTrainFeather = '../../data/binary/train.feather'\n",
    "feather.write_dataframe(dfTrain, pathTrainFeather)\n",
    "\n",
    "# The test data\n",
    "pathTestFeather = '../../data/binary/test.feather'\n",
    "feather.write_dataframe(dfTest, pathTestFeather)"
   ]
  }
 ],
 "metadata": {
  "kernelspec": {
   "display_name": "Python 2",
   "language": "python",
   "name": "python2"
  },
  "language_info": {
   "codemirror_mode": {
    "name": "ipython",
    "version": 2
   },
   "file_extension": ".py",
   "mimetype": "text/x-python",
   "name": "python",
   "nbconvert_exporter": "python",
   "pygments_lexer": "ipython2",
   "version": "2.7.13"
  }
 },
 "nbformat": 4,
 "nbformat_minor": 2
}
