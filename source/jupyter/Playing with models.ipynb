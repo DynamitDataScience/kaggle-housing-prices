{
 "cells": [
  {
   "cell_type": "markdown",
   "metadata": {},
   "source": [
    "# Load the data and fit a simple model\n",
    "This simple example shows you how to load the data into a jupyter notebook and fit a simple model."
   ]
  },
  {
   "cell_type": "code",
   "execution_count": 1,
   "metadata": {
    "collapsed": true
   },
   "outputs": [],
   "source": [
    "# Load in some libraries\n",
    "from datetime import datetime\n",
    "import pandas as pd\n",
    "import numpy as np\n",
    "import seaborn as sns\n",
    "from sklearn.preprocessing import StandardScaler\n",
    "from sklearn.model_selection import train_test_split\n",
    "from sklearn.metrics import mean_squared_error\n",
    "from scipy.stats import skew\n",
    "%matplotlib inline\n",
    "pd.set_option('display.float_format', lambda x: '%.3f' % x)"
   ]
  },
  {
   "cell_type": "markdown",
   "metadata": {},
   "source": [
    "### Load in the data"
   ]
  },
  {
   "cell_type": "code",
   "execution_count": 2,
   "metadata": {
    "collapsed": false
   },
   "outputs": [],
   "source": [
    "# Relative path to data\n",
    "trainPath = '../../data/train.csv'\n",
    "testPath = '../../data/test.csv'\n",
    "\n",
    "train = pd.read_csv(trainPath)\n",
    "test = pd.read_csv(testPath)"
   ]
  },
  {
   "cell_type": "markdown",
   "metadata": {},
   "source": [
    "### Look at the data"
   ]
  },
  {
   "cell_type": "code",
   "execution_count": 3,
   "metadata": {
    "collapsed": false
   },
   "outputs": [
    {
     "name": "stdout",
     "output_type": "stream",
     "text": [
      "Shape of training data: (1460, 81)\n",
      "Shape of test data: (1459, 80)\n"
     ]
    }
   ],
   "source": [
    "print \"Shape of training data: \" + str(train.shape)\n",
    "print \"Shape of test data: \" + str(test.shape)"
   ]
  },
  {
   "cell_type": "markdown",
   "metadata": {},
   "source": [
    "# Preprocessing"
   ]
  },
  {
   "cell_type": "markdown",
   "metadata": {},
   "source": [
    "## Separating training and target data"
   ]
  },
  {
   "cell_type": "code",
   "execution_count": 4,
   "metadata": {
    "collapsed": false
   },
   "outputs": [
    {
     "name": "stdout",
     "output_type": "stream",
     "text": [
      "(1460, 79) (1459, 79) (1460,)\n"
     ]
    }
   ],
   "source": [
    "# Pull out the Ids for the kaggle submission and drop from the test set (will only need test Ids.\n",
    "testIds = test.pop('Id')\n",
    "trainIds = train.pop('Id')\n",
    "\n",
    "# Take the log of 1 plus sale price for training and submission\n",
    "y = np.log1p(train.pop('SalePrice'))\n",
    "\n",
    "print train.shape, test.shape, y.shape"
   ]
  },
  {
   "cell_type": "markdown",
   "metadata": {},
   "source": [
    "### Merge train and test data for preprocessing"
   ]
  },
  {
   "cell_type": "code",
   "execution_count": 5,
   "metadata": {
    "collapsed": false
   },
   "outputs": [
    {
     "name": "stdout",
     "output_type": "stream",
     "text": [
      "(2919, 79)\n"
     ]
    }
   ],
   "source": [
    "trainTest = pd.concat([train, test], axis=0)\n",
    "\n",
    "print trainTest.shape"
   ]
  },
  {
   "cell_type": "markdown",
   "metadata": {},
   "source": [
    "### Handle missing values for features where median/mean or most common value doesn't make sense"
   ]
  },
  {
   "cell_type": "code",
   "execution_count": 6,
   "metadata": {
    "collapsed": false
   },
   "outputs": [],
   "source": [
    "# Alley : data description says NA means \"no alley access\"\n",
    "trainTest.loc[:, \"Alley\"] = trainTest.loc[:, \"Alley\"].fillna(\"None\")\n",
    "# BedroomAbvGr : NA most likely means 0\n",
    "trainTest.loc[:, \"BedroomAbvGr\"] = trainTest.loc[:, \"BedroomAbvGr\"].fillna(0)\n",
    "# BsmtQual etc : data description says NA for basement features is \"no basement\"\n",
    "trainTest.loc[:, \"BsmtQual\"] = trainTest.loc[:, \"BsmtQual\"].fillna(\"No\")\n",
    "trainTest.loc[:, \"BsmtCond\"] = trainTest.loc[:, \"BsmtCond\"].fillna(\"No\")\n",
    "trainTest.loc[:, \"BsmtExposure\"] = trainTest.loc[:, \"BsmtExposure\"].fillna(\"No\")\n",
    "trainTest.loc[:, \"BsmtFinType1\"] = trainTest.loc[:, \"BsmtFinType1\"].fillna(\"No\")\n",
    "trainTest.loc[:, \"BsmtFinType2\"] = trainTest.loc[:, \"BsmtFinType2\"].fillna(\"No\")\n",
    "trainTest.loc[:, \"BsmtFullBath\"] = trainTest.loc[:, \"BsmtFullBath\"].fillna(0)\n",
    "trainTest.loc[:, \"BsmtHalfBath\"] = trainTest.loc[:, \"BsmtHalfBath\"].fillna(0)\n",
    "trainTest.loc[:, \"BsmtUnfSF\"] = trainTest.loc[:, \"BsmtUnfSF\"].fillna(0)\n",
    "# CentralAir : NA most likely means No\n",
    "trainTest.loc[:, \"CentralAir\"] = trainTest.loc[:, \"CentralAir\"].fillna(\"N\")\n",
    "# Condition : NA most likely means Normal\n",
    "trainTest.loc[:, \"Condition1\"] = trainTest.loc[:, \"Condition1\"].fillna(\"Norm\")\n",
    "trainTest.loc[:, \"Condition2\"] = trainTest.loc[:, \"Condition2\"].fillna(\"Norm\")\n",
    "# EnclosedPorch : NA most likely means no enclosed porch\n",
    "trainTest.loc[:, \"EnclosedPorch\"] = trainTest.loc[:, \"EnclosedPorch\"].fillna(0)\n",
    "# External stuff : NA most likely means average\n",
    "trainTest.loc[:, \"ExterCond\"] = trainTest.loc[:, \"ExterCond\"].fillna(\"TA\")\n",
    "trainTest.loc[:, \"ExterQual\"] = trainTest.loc[:, \"ExterQual\"].fillna(\"TA\")\n",
    "# Fence : data description says NA means \"no fence\"\n",
    "trainTest.loc[:, \"Fence\"] = trainTest.loc[:, \"Fence\"].fillna(\"No\")\n",
    "# FireplaceQu : data description says NA means \"no fireplace\"\n",
    "trainTest.loc[:, \"FireplaceQu\"] = trainTest.loc[:, \"FireplaceQu\"].fillna(\"No\")\n",
    "trainTest.loc[:, \"Fireplaces\"] = trainTest.loc[:, \"Fireplaces\"].fillna(0)\n",
    "# Functional : data description says NA means typical\n",
    "trainTest.loc[:, \"Functional\"] = trainTest.loc[:, \"Functional\"].fillna(\"Typ\")\n",
    "# GarageType etc : data description says NA for garage features is \"no garage\"\n",
    "trainTest.loc[:, \"GarageType\"] = trainTest.loc[:, \"GarageType\"].fillna(\"No\")\n",
    "trainTest.loc[:, \"GarageFinish\"] = trainTest.loc[:, \"GarageFinish\"].fillna(\"No\")\n",
    "trainTest.loc[:, \"GarageQual\"] = trainTest.loc[:, \"GarageQual\"].fillna(\"No\")\n",
    "trainTest.loc[:, \"GarageCond\"] = trainTest.loc[:, \"GarageCond\"].fillna(\"No\")\n",
    "trainTest.loc[:, \"GarageArea\"] = trainTest.loc[:, \"GarageArea\"].fillna(0)\n",
    "trainTest.loc[:, \"GarageCars\"] = trainTest.loc[:, \"GarageCars\"].fillna(0)\n",
    "# HalfBath : NA most likely means no half baths above grade\n",
    "trainTest.loc[:, \"HalfBath\"] = trainTest.loc[:, \"HalfBath\"].fillna(0)\n",
    "# HeatingQC : NA most likely means typical\n",
    "trainTest.loc[:, \"HeatingQC\"] = trainTest.loc[:, \"HeatingQC\"].fillna(\"TA\")\n",
    "# KitchenAbvGr : NA most likely means 0\n",
    "trainTest.loc[:, \"KitchenAbvGr\"] = trainTest.loc[:, \"KitchenAbvGr\"].fillna(0)\n",
    "# KitchenQual : NA most likely means typical\n",
    "trainTest.loc[:, \"KitchenQual\"] = trainTest.loc[:, \"KitchenQual\"].fillna(\"TA\")\n",
    "# LotFrontage : NA most likely means no lot frontage\n",
    "trainTest.loc[:, \"LotFrontage\"] = trainTest.loc[:, \"LotFrontage\"].fillna(0)\n",
    "# LotShape : NA most likely means regular\n",
    "trainTest.loc[:, \"LotShape\"] = trainTest.loc[:, \"LotShape\"].fillna(\"Reg\")\n",
    "# MasVnrType : NA most likely means no veneer\n",
    "trainTest.loc[:, \"MasVnrType\"] = trainTest.loc[:, \"MasVnrType\"].fillna(\"None\")\n",
    "trainTest.loc[:, \"MasVnrArea\"] = trainTest.loc[:, \"MasVnrArea\"].fillna(0)\n",
    "# MiscFeature : data description says NA means \"no misc feature\"\n",
    "trainTest.loc[:, \"MiscFeature\"] = trainTest.loc[:, \"MiscFeature\"].fillna(\"No\")\n",
    "trainTest.loc[:, \"MiscVal\"] = trainTest.loc[:, \"MiscVal\"].fillna(0)\n",
    "# OpenPorchSF : NA most likely means no open porch\n",
    "trainTest.loc[:, \"OpenPorchSF\"] = trainTest.loc[:, \"OpenPorchSF\"].fillna(0)\n",
    "# PavedDrive : NA most likely means not paved\n",
    "trainTest.loc[:, \"PavedDrive\"] = trainTest.loc[:, \"PavedDrive\"].fillna(\"N\")\n",
    "# PoolQC : data description says NA means \"no pool\"\n",
    "trainTest.loc[:, \"PoolQC\"] = trainTest.loc[:, \"PoolQC\"].fillna(\"No\")\n",
    "trainTest.loc[:, \"PoolArea\"] = trainTest.loc[:, \"PoolArea\"].fillna(0)\n",
    "# SaleCondition : NA most likely means normal sale\n",
    "trainTest.loc[:, \"SaleCondition\"] = trainTest.loc[:, \"SaleCondition\"].fillna(\"Normal\")\n",
    "# ScreenPorch : NA most likely means no screen porch\n",
    "trainTest.loc[:, \"ScreenPorch\"] = trainTest.loc[:, \"ScreenPorch\"].fillna(0)\n",
    "# TotRmsAbvGrd : NA most likely means 0\n",
    "trainTest.loc[:, \"TotRmsAbvGrd\"] = trainTest.loc[:, \"TotRmsAbvGrd\"].fillna(0)\n",
    "# Utilities : NA most likely means all public utilities\n",
    "trainTest.loc[:, \"Utilities\"] = trainTest.loc[:, \"Utilities\"].fillna(\"AllPub\")\n",
    "# WoodDeckSF : NA most likely means no wood deck\n",
    "trainTest.loc[:, \"WoodDeckSF\"] = trainTest.loc[:, \"WoodDeckSF\"].fillna(0)"
   ]
  },
  {
   "cell_type": "markdown",
   "metadata": {},
   "source": [
    "### Some numerical features are actually really categories"
   ]
  },
  {
   "cell_type": "code",
   "execution_count": 7,
   "metadata": {
    "collapsed": false
   },
   "outputs": [],
   "source": [
    "trainTest = trainTest.replace({\"MSSubClass\" : {20 : \"SC20\", \n",
    "                                       30 : \"SC30\", \n",
    "                                       40 : \"SC40\", \n",
    "                                       45 : \"SC45\", \n",
    "                                       50 : \"SC50\", \n",
    "                                       60 : \"SC60\", \n",
    "                                       70 : \"SC70\", \n",
    "                                       75 : \"SC75\", \n",
    "                                       80 : \"SC80\", \n",
    "                                       85 : \"SC85\", \n",
    "                                       90 : \"SC90\", \n",
    "                                       120 : \"SC120\", \n",
    "                                       150 : \"SC150\", \n",
    "                                       160 : \"SC160\", \n",
    "                                       180 : \"SC180\", \n",
    "                                       190 : \"SC190\"},\n",
    "                       \"MoSold\" : {1 : \"Jan\", \n",
    "                                   2 : \"Feb\", \n",
    "                                   3 : \"Mar\", \n",
    "                                   4 : \"Apr\", \n",
    "                                   5 : \"May\", \n",
    "                                   6 : \"Jun\",\n",
    "                                   7 : \"Jul\", \n",
    "                                   8 : \"Aug\", \n",
    "                                   9 : \"Sep\", \n",
    "                                   10 : \"Oct\", \n",
    "                                   11 : \"Nov\", \n",
    "                                   12 : \"Dec\"}\n",
    "                      })"
   ]
  },
  {
   "cell_type": "markdown",
   "metadata": {},
   "source": [
    "### Encode some categorical features as ordered numbers when there is information in the order"
   ]
  },
  {
   "cell_type": "code",
   "execution_count": 8,
   "metadata": {
    "collapsed": true
   },
   "outputs": [],
   "source": [
    "trainTest = trainTest.replace({\"Alley\" : {\"Grvl\" : 1, \"Pave\" : 2},\n",
    "                       \"BsmtCond\" : {\"No\" : 0, \"Po\" : 1, \"Fa\" : 2, \"TA\" : 3, \"Gd\" : 4, \"Ex\" : 5},\n",
    "                       \"BsmtExposure\" : {\"No\" : 0, \"Mn\" : 1, \"Av\": 2, \"Gd\" : 3},\n",
    "                       \"BsmtFinType1\" : {\"No\" : 0, \"Unf\" : 1, \"LwQ\": 2, \"Rec\" : 3, \"BLQ\" : 4, \n",
    "                                         \"ALQ\" : 5, \"GLQ\" : 6},\n",
    "                       \"BsmtFinType2\" : {\"No\" : 0, \"Unf\" : 1, \"LwQ\": 2, \"Rec\" : 3, \"BLQ\" : 4, \n",
    "                                         \"ALQ\" : 5, \"GLQ\" : 6},\n",
    "                       \"BsmtQual\" : {\"No\" : 0, \"Po\" : 1, \"Fa\" : 2, \"TA\": 3, \"Gd\" : 4, \"Ex\" : 5},\n",
    "                       \"ExterCond\" : {\"Po\" : 1, \"Fa\" : 2, \"TA\": 3, \"Gd\": 4, \"Ex\" : 5},\n",
    "                       \"ExterQual\" : {\"Po\" : 1, \"Fa\" : 2, \"TA\": 3, \"Gd\": 4, \"Ex\" : 5},\n",
    "                       \"FireplaceQu\" : {\"No\" : 0, \"Po\" : 1, \"Fa\" : 2, \"TA\" : 3, \"Gd\" : 4, \"Ex\" : 5},\n",
    "                       \"Functional\" : {\"Sal\" : 1, \"Sev\" : 2, \"Maj2\" : 3, \"Maj1\" : 4, \"Mod\": 5, \n",
    "                                       \"Min2\" : 6, \"Min1\" : 7, \"Typ\" : 8},\n",
    "                       \"GarageCond\" : {\"No\" : 0, \"Po\" : 1, \"Fa\" : 2, \"TA\" : 3, \"Gd\" : 4, \"Ex\" : 5},\n",
    "                       \"GarageQual\" : {\"No\" : 0, \"Po\" : 1, \"Fa\" : 2, \"TA\" : 3, \"Gd\" : 4, \"Ex\" : 5},\n",
    "                       \"HeatingQC\" : {\"Po\" : 1, \"Fa\" : 2, \"TA\" : 3, \"Gd\" : 4, \"Ex\" : 5},\n",
    "                       \"KitchenQual\" : {\"Po\" : 1, \"Fa\" : 2, \"TA\" : 3, \"Gd\" : 4, \"Ex\" : 5},\n",
    "                       \"LandSlope\" : {\"Sev\" : 1, \"Mod\" : 2, \"Gtl\" : 3},\n",
    "                       \"LotShape\" : {\"IR3\" : 1, \"IR2\" : 2, \"IR1\" : 3, \"Reg\" : 4},\n",
    "                       \"PavedDrive\" : {\"N\" : 0, \"P\" : 1, \"Y\" : 2},\n",
    "                       \"PoolQC\" : {\"No\" : 0, \"Fa\" : 1, \"TA\" : 2, \"Gd\" : 3, \"Ex\" : 4},\n",
    "                       \"Street\" : {\"Grvl\" : 1, \"Pave\" : 2},\n",
    "                       \"Utilities\" : {\"ELO\" : 1, \"NoSeWa\" : 2, \"NoSewr\" : 3, \"AllPub\" : 4}}\n",
    "                     )"
   ]
  },
  {
   "cell_type": "markdown",
   "metadata": {},
   "source": [
    "## Feature Engineering"
   ]
  },
  {
   "cell_type": "code",
   "execution_count": 9,
   "metadata": {
    "collapsed": false
   },
   "outputs": [
    {
     "name": "stdout",
     "output_type": "stream",
     "text": [
      "Numerical features : 53\n",
      "Categorical features : 26\n"
     ]
    }
   ],
   "source": [
    "# Differentiate numerical features (minus the target) and categorical features\n",
    "categorical_features = trainTest.select_dtypes(include = [\"object\"]).columns\n",
    "numerical_features = trainTest.select_dtypes(exclude = [\"object\"]).columns\n",
    "print(\"Numerical features : \" + str(len(numerical_features)))\n",
    "print(\"Categorical features : \" + str(len(categorical_features)))\n",
    "trainTest_num = trainTest[numerical_features]\n",
    "trainTest_cat = trainTest[categorical_features]"
   ]
  },
  {
   "cell_type": "code",
   "execution_count": 10,
   "metadata": {
    "collapsed": false
   },
   "outputs": [
    {
     "name": "stdout",
     "output_type": "stream",
     "text": [
      "38 skewed numerical features to log transform\n"
     ]
    },
    {
     "name": "stderr",
     "output_type": "stream",
     "text": [
      "/anaconda/lib/python2.7/site-packages/pandas/core/frame.py:2440: SettingWithCopyWarning: \n",
      "A value is trying to be set on a copy of a slice from a DataFrame.\n",
      "Try using .loc[row_indexer,col_indexer] = value instead\n",
      "\n",
      "See the caveats in the documentation: http://pandas.pydata.org/pandas-docs/stable/indexing.html#indexing-view-versus-copy\n",
      "  self[k1] = value[k2]\n"
     ]
    }
   ],
   "source": [
    "# Log transform of the skewed numerical features to lessen impact of outliers\n",
    "# Inspired by Alexandrua Papiu's script : https://www.kaggle.com/apapiu/house-prices-advanced-regression-techniques/regularized-linear-models\n",
    "# As a general rule of thumb, a skewness with an absolute value > 0.5 is considered at least moderately skewed\n",
    "skewness = trainTest_num.apply(lambda x: skew(x))\n",
    "skewness = skewness[abs(skewness) > 0.5]\n",
    "print(str(skewness.shape[0]) + \" skewed numerical features to log transform\")\n",
    "skewed_features = skewness.index\n",
    "trainTest_num[skewed_features] = np.log1p(trainTest_num[skewed_features])"
   ]
  },
  {
   "cell_type": "code",
   "execution_count": 11,
   "metadata": {
    "collapsed": false
   },
   "outputs": [
    {
     "name": "stdout",
     "output_type": "stream",
     "text": [
      "NAs for numerical features in trainTest : 162\n",
      "Remaining NAs for numerical features in trainTest : 0\n"
     ]
    }
   ],
   "source": [
    "# Handle remaining missing values for numerical features by using median as replacement\n",
    "print(\"NAs for numerical features in trainTest : \" + str(trainTest_num.isnull().values.sum()))\n",
    "trainTest_num = trainTest_num.fillna(trainTest_num.median())\n",
    "print(\"Remaining NAs for numerical features in trainTest : \" + str(trainTest_num.isnull().values.sum()))"
   ]
  },
  {
   "cell_type": "code",
   "execution_count": 12,
   "metadata": {
    "collapsed": false
   },
   "outputs": [
    {
     "name": "stdout",
     "output_type": "stream",
     "text": [
      "NAs for categorical features in trainTest : 8\n",
      "Remaining NAs for categorical features in trainTest : 0\n"
     ]
    }
   ],
   "source": [
    "# Create dummy features for categorical values via one-hot encoding\n",
    "print(\"NAs for categorical features in trainTest : \" + str(trainTest_cat.isnull().values.sum()))\n",
    "trainTest_cat = pd.get_dummies(trainTest_cat)\n",
    "print(\"Remaining NAs for categorical features in trainTest : \" + str(trainTest_cat.isnull().values.sum()))"
   ]
  },
  {
   "cell_type": "code",
   "execution_count": 13,
   "metadata": {
    "collapsed": false
   },
   "outputs": [
    {
     "name": "stdout",
     "output_type": "stream",
     "text": [
      "New number of features : 257\n"
     ]
    }
   ],
   "source": [
    "# Join categorical and numerical features\n",
    "trainTest = pd.concat([trainTest_num, trainTest_cat], axis = 1)\n",
    "print(\"New number of features : \" + str(trainTest.shape[1]))"
   ]
  },
  {
   "cell_type": "markdown",
   "metadata": {},
   "source": [
    "### Separate training and test data once more"
   ]
  },
  {
   "cell_type": "code",
   "execution_count": 14,
   "metadata": {
    "collapsed": false
   },
   "outputs": [
    {
     "name": "stdout",
     "output_type": "stream",
     "text": [
      "(1460, 257) (1459, 257)\n"
     ]
    }
   ],
   "source": [
    "# Now split out the train and test sets again \n",
    "train = trainTest.iloc[0:train.shape[0],:]\n",
    "test = trainTest.iloc[train.shape[0]:,:]\n",
    "\n",
    "print train.shape, test.shape"
   ]
  },
  {
   "cell_type": "markdown",
   "metadata": {},
   "source": [
    "## Model fitting"
   ]
  },
  {
   "cell_type": "code",
   "execution_count": 15,
   "metadata": {
    "collapsed": false
   },
   "outputs": [
    {
     "name": "stdout",
     "output_type": "stream",
     "text": [
      "X_train : (1241, 257)\n",
      "X_test : (219, 257)\n",
      "y_train : (1241,)\n",
      "y_test : (219,)\n"
     ]
    }
   ],
   "source": [
    "# Partition the dataset in train + validation sets\n",
    "X_train, X_test, y_train, y_test = train_test_split(train, y, test_size = 0.15, random_state = 0)\n",
    "print(\"X_train : \" + str(X_train.shape))\n",
    "print(\"X_test : \" + str(X_test.shape))\n",
    "print(\"y_train : \" + str(y_train.shape))\n",
    "print(\"y_test : \" + str(y_test.shape))"
   ]
  },
  {
   "cell_type": "code",
   "execution_count": 16,
   "metadata": {
    "collapsed": false
   },
   "outputs": [
    {
     "name": "stderr",
     "output_type": "stream",
     "text": [
      "/anaconda/lib/python2.7/site-packages/pandas/core/indexing.py:477: SettingWithCopyWarning: \n",
      "A value is trying to be set on a copy of a slice from a DataFrame.\n",
      "Try using .loc[row_indexer,col_indexer] = value instead\n",
      "\n",
      "See the caveats in the documentation: http://pandas.pydata.org/pandas-docs/stable/indexing.html#indexing-view-versus-copy\n",
      "  self.obj[item] = s\n"
     ]
    }
   ],
   "source": [
    "# Standardize numerical features\n",
    "stdSc = StandardScaler()\n",
    "X_train.loc[:, numerical_features] = stdSc.fit_transform(X_train.loc[:, numerical_features])\n",
    "X_test.loc[:, numerical_features] = stdSc.transform(X_test.loc[:, numerical_features])\n",
    "test.loc[:, numerical_features] = stdSc.transform(test.loc[:,numerical_features])"
   ]
  },
  {
   "cell_type": "markdown",
   "metadata": {},
   "source": [
    "### Function for evaluating the fit of different models"
   ]
  },
  {
   "cell_type": "code",
   "execution_count": 17,
   "metadata": {
    "collapsed": true
   },
   "outputs": [],
   "source": [
    "def tryModel(model, X_train, y_train, X_test, y_test, makeSubmission=True):\n",
    "    \"\"\"\n",
    "    model: a fitted sklearn model\n",
    "    X_train: the training data used to train `model`\n",
    "    y_train: the target data used to train `model`\n",
    "    X_test: the test data for evaluating `model`\n",
    "    y_test: the test target data for evaluating the `model`\n",
    "    \"\"\"\n",
    "    \n",
    "    # Predict on new data and plot the results\n",
    "    y_test_pred = model.predict(X_test)\n",
    "    y_train_pred = model.predict(X_train)\n",
    "\n",
    "    # Plot the results\n",
    "    sns.regplot(x=y_test, y=y_test_pred-y_test);\n",
    "    \n",
    "    # Evaluate the rms error on the train set:\n",
    "    rmse_log_train = np.sqrt(mean_squared_error(y_train_pred, y_train))\n",
    "    rmse_abs_train = np.sqrt(mean_squared_error(np.exp(y_train_pred), np.exp(y_train)))\n",
    "\n",
    "    print  \"Training Set Errors:\" \\\n",
    "           \"\\nTypical log error in housing sale price prediction: \" + str(rmse_log_train) + \\\n",
    "           \"\\nTypical absolute error in housing sale price prediction: $\" + str(rmse_abs_train)\n",
    "\n",
    "    # Evaluate the rms error on the validation set:\n",
    "    rmse_log = np.sqrt(mean_squared_error(y_test_pred, y_test))\n",
    "    rmse_abs = np.sqrt(mean_squared_error(np.exp(y_test_pred), np.exp(y_test)))\n",
    "\n",
    "    print  \"\\nValidation Set Errors:\" \\\n",
    "           \"\\nTypical log error in housing sale price prediction: \" + str(rmse_log) + \\\n",
    "           \"\\nTypical absolute error in housing sale price prediction: $\" + str(rmse_abs)\n",
    "    \n",
    "    if makeSubmission:\n",
    "        # Generating the submission\n",
    "        yTestPred = np.exp(model.predict(test))-1\n",
    "        dfSubmissions = pd.DataFrame(zip(testIds.as_matrix(), yTestPred), columns=['Id', 'SalePrice'])\n",
    "        \n",
    "        print '\\nHead of submission dataframe:'\n",
    "        print(dfSubmissions.head())\n",
    "\n",
    "        model_name = model.__class__.__name__\n",
    "        now = datetime.now().strftime('%Y%m%d_%H%M%S')\n",
    "        outFile = '../../data/submissions/' + str(now) + '_' + model_name + '.csv'\n",
    "        dfSubmissions.to_csv(outFile, index=False)\n",
    "        \n",
    "        print '\\nSubmission saved to: ' + outFile"
   ]
  },
  {
   "cell_type": "markdown",
   "metadata": {},
   "source": [
    "### Try some models!"
   ]
  },
  {
   "cell_type": "markdown",
   "metadata": {},
   "source": [
    "#### Random Forest\n",
    "First let's try sklearn's Random Forest Regressor: http://scikit-learn.org/stable/modules/generated/sklearn.ensemble.RandomForestRegressor.html"
   ]
  },
  {
   "cell_type": "code",
   "execution_count": 18,
   "metadata": {
    "collapsed": false
   },
   "outputs": [
    {
     "data": {
      "text/plain": [
       "RandomForestRegressor(bootstrap=True, criterion='mse', max_depth=None,\n",
       "           max_features='auto', max_leaf_nodes=None,\n",
       "           min_impurity_split=1e-07, min_samples_leaf=1,\n",
       "           min_samples_split=2, min_weight_fraction_leaf=0.0,\n",
       "           n_estimators=500, n_jobs=6, oob_score=True, random_state=None,\n",
       "           verbose=False, warm_start=False)"
      ]
     },
     "execution_count": 18,
     "metadata": {},
     "output_type": "execute_result"
    }
   ],
   "source": [
    "from sklearn.ensemble import RandomForestRegressor\n",
    "\n",
    "model = RandomForestRegressor(verbose=False,\n",
    "                              max_depth=None,\n",
    "                              n_estimators=500,\n",
    "                              oob_score=True,\n",
    "                             n_jobs=6)\n",
    "model.fit(X_train, y_train)"
   ]
  },
  {
   "cell_type": "code",
   "execution_count": 19,
   "metadata": {
    "collapsed": false
   },
   "outputs": [
    {
     "name": "stdout",
     "output_type": "stream",
     "text": [
      "Training Set Errors:\n",
      "Typical log error in housing sale price prediction: 0.0528584560105\n",
      "Typical absolute error in housing sale price prediction: $10865.2614006\n",
      "\n",
      "Validation Set Errors:\n",
      "Typical log error in housing sale price prediction: 0.130303877951\n",
      "Typical absolute error in housing sale price prediction: $29455.3296294\n",
      "\n",
      "Head of submission dataframe:\n",
      "     Id  SalePrice\n",
      "0  1461 124321.942\n",
      "1  1462 153068.719\n",
      "2  1463 181511.095\n",
      "3  1464 181030.716\n",
      "4  1465 194060.517\n",
      "\n",
      "Submission saved to: ../../data/submissions/20170616_232306_RandomForestRegressor.csv\n"
     ]
    },
    {
     "data": {
      "image/png": "[encoded data removed]",
      "text/plain": [
       "<matplotlib.figure.Figure at 0x1198ee350>"
      ]
     },
     "metadata": {},
     "output_type": "display_data"
    }
   ],
   "source": [
    "tryModel(model, X_train, y_train, X_test, y_test)"
   ]
  },
  {
   "cell_type": "markdown",
   "metadata": {},
   "source": [
    "#### ElasticNet"
   ]
  },
  {
   "cell_type": "code",
   "execution_count": 22,
   "metadata": {
    "collapsed": false
   },
   "outputs": [
    {
     "name": "stdout",
     "output_type": "stream",
     "text": [
      "Best l1_ratio : 0.357142857143\n",
      "Best alpha : 0.00138949549437\n"
     ]
    }
   ],
   "source": [
    "from sklearn.linear_model import ElasticNetCV\n",
    "\n",
    "# The parameters to search over in the GridSearchCV run\n",
    "alphas = np.logspace(-4,-2,15)\n",
    "l1_ratios = np.linspace(0.25,0.75,15)\n",
    "\n",
    "# The model with GridSearchCV\n",
    "model = ElasticNetCV(l1_ratio=l1_ratios,\n",
    "                     alphas=alphas,\n",
    "                     max_iter=5000,\n",
    "                     cv=20,\n",
    "                    n_jobs=6)\n",
    "\n",
    "model.fit(X_train, y_train)\n",
    "\n",
    "print \"Best l1_ratio :\", model.l1_ratio_\n",
    "print \"Best alpha :\", model.alpha_"
   ]
  },
  {
   "cell_type": "code",
   "execution_count": 23,
   "metadata": {
    "collapsed": false
   },
   "outputs": [
    {
     "name": "stdout",
     "output_type": "stream",
     "text": [
      "Training Set Errors:\n",
      "Typical log error in housing sale price prediction: 0.108171827015\n",
      "Typical absolute error in housing sale price prediction: $23439.055963\n",
      "\n",
      "Validation Set Errors:\n",
      "Typical log error in housing sale price prediction: 0.122171428073\n",
      "Typical absolute error in housing sale price prediction: $30822.5548424\n",
      "\n",
      "Head of submission dataframe:\n",
      "     Id  SalePrice\n",
      "0  1461 113403.451\n",
      "1  1462 159130.632\n",
      "2  1463 177066.803\n",
      "3  1464 194987.979\n",
      "4  1465 200906.813\n",
      "\n",
      "Submission saved to: ../../data/submissions/20170616_232536_ElasticNetCV.csv\n"
     ]
    },
    {
     "data": {
      "image/png": "[encoded data removed]",
      "text/plain": [
       "<matplotlib.figure.Figure at 0x118fc98d0>"
      ]
     },
     "metadata": {},
     "output_type": "display_data"
    }
   ],
   "source": [
    "tryModel(model, X_train, y_train, X_test, y_test)"
   ]
  },
  {
   "cell_type": "code",
   "execution_count": null,
   "metadata": {
    "collapsed": true
   },
   "outputs": [],
   "source": []
  }
 ],
 "metadata": {
  "kernelspec": {
   "display_name": "Python 2",
   "language": "python",
   "name": "python2"
  },
  "language_info": {
   "codemirror_mode": {
    "name": "ipython",
    "version": 2
   },
   "file_extension": ".py",
   "mimetype": "text/x-python",
   "name": "python",
   "nbconvert_exporter": "python",
   "pygments_lexer": "ipython2",
   "version": "2.7.13"
  }
 },
 "nbformat": 4,
 "nbformat_minor": 2
}
