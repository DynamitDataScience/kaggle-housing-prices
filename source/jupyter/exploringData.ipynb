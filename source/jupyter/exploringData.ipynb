{
 "cells": [
  {
   "cell_type": "markdown",
   "metadata": {},
   "source": [
    "# Demo 2 - Exploring Data\n",
    "\n",
    "This notebook guides you through some basic data exploration techniques."
   ]
  },
  {
   "cell_type": "markdown",
   "metadata": {},
   "source": [
    "# Initial Setup"
   ]
  },
  {
   "cell_type": "code",
   "execution_count": 36,
   "metadata": {
    "collapsed": true
   },
   "outputs": [],
   "source": [
    "# Load in some libraries\n",
    "import pandas as pd\n",
    "import numpy as np\n",
    "import seaborn as sns\n",
    "import matplotlib.pyplot as plt\n",
    "sns.set(style=\"white\", color_codes=True)\n",
    "%matplotlib inline\n",
    "# FYI hit shift+enter when this block is highlighted to run it\n",
    "# other Jupyter hotkeys can be found in the little keyboard icon \n",
    "#  to the left of the \"Cell Toolbar\" above"
   ]
  },
  {
   "cell_type": "markdown",
   "metadata": {},
   "source": [
    "## Load in the Data"
   ]
  },
  {
   "cell_type": "code",
   "execution_count": 7,
   "metadata": {
    "collapsed": false
   },
   "outputs": [],
   "source": [
    "# Relative path to data\n",
    "trainPath = '../../data/train.csv'\n",
    "testPath = '../../data/test.csv'\n",
    "\n",
    "dataTrain = pd.read_csv(trainPath)\n",
    "dataTest = pd.read_csv(testPath)"
   ]
  },
  {
   "cell_type": "markdown",
   "metadata": {},
   "source": [
    "## View the Data\n",
    "\n",
    "There are a few commands that can help view the overall layout of the data. These summarizations can be helpful to let you know what types of data there is to explore.\n",
    "\n",
    "For now we will focus on the Training data."
   ]
  },
  {
   "cell_type": "code",
   "execution_count": 16,
   "metadata": {
    "collapsed": false,
    "scrolled": true
   },
   "outputs": [
    {
     "name": "stdout",
     "output_type": "stream",
     "text": [
      "Training Data Entries (rows): 1460\n",
      "Training Data Factors (columns): 81\n"
     ]
    }
   ],
   "source": [
    "print \"Training Data Entries (rows): %d\" % dataTrain.shape[0] \n",
    "print \"Training Data Factors (columns): %d\" % dataTrain.shape[1]"
   ]
  },
  {
   "cell_type": "code",
   "execution_count": 26,
   "metadata": {
    "collapsed": false
   },
   "outputs": [
    {
     "name": "stdout",
     "output_type": "stream",
     "text": [
      "01 : Id\n",
      "02 : MSSubClass\n",
      "03 : MSZoning\n",
      "04 : LotFrontage\n",
      "05 : LotArea\n",
      "06 : Street\n",
      "07 : Alley\n",
      "08 : LotShape\n",
      "09 : LandContour\n",
      "10 : Utilities\n",
      "11 : LotConfig\n",
      "12 : LandSlope\n",
      "13 : Neighborhood\n",
      "14 : Condition1\n",
      "15 : Condition2\n",
      "16 : BldgType\n",
      "17 : HouseStyle\n",
      "18 : OverallQual\n",
      "19 : OverallCond\n",
      "20 : YearBuilt\n",
      "21 : YearRemodAdd\n",
      "22 : RoofStyle\n",
      "23 : RoofMatl\n",
      "24 : Exterior1st\n",
      "25 : Exterior2nd\n",
      "26 : MasVnrType\n",
      "27 : MasVnrArea\n",
      "28 : ExterQual\n",
      "29 : ExterCond\n",
      "30 : Foundation\n",
      "31 : BsmtQual\n",
      "32 : BsmtCond\n",
      "33 : BsmtExposure\n",
      "34 : BsmtFinType1\n",
      "35 : BsmtFinSF1\n",
      "36 : BsmtFinType2\n",
      "37 : BsmtFinSF2\n",
      "38 : BsmtUnfSF\n",
      "39 : TotalBsmtSF\n",
      "40 : Heating\n",
      "41 : HeatingQC\n",
      "42 : CentralAir\n",
      "43 : Electrical\n",
      "44 : 1stFlrSF\n",
      "45 : 2ndFlrSF\n",
      "46 : LowQualFinSF\n",
      "47 : GrLivArea\n",
      "48 : BsmtFullBath\n",
      "49 : BsmtHalfBath\n",
      "50 : FullBath\n",
      "51 : HalfBath\n",
      "52 : BedroomAbvGr\n",
      "53 : KitchenAbvGr\n",
      "54 : KitchenQual\n",
      "55 : TotRmsAbvGrd\n",
      "56 : Functional\n",
      "57 : Fireplaces\n",
      "58 : FireplaceQu\n",
      "59 : GarageType\n",
      "60 : GarageYrBlt\n",
      "61 : GarageFinish\n",
      "62 : GarageCars\n",
      "63 : GarageArea\n",
      "64 : GarageQual\n",
      "65 : GarageCond\n",
      "66 : PavedDrive\n",
      "67 : WoodDeckSF\n",
      "68 : OpenPorchSF\n",
      "69 : EnclosedPorch\n",
      "70 : 3SsnPorch\n",
      "71 : ScreenPorch\n",
      "72 : PoolArea\n",
      "73 : PoolQC\n",
      "74 : Fence\n",
      "75 : MiscFeature\n",
      "76 : MiscVal\n",
      "77 : MoSold\n",
      "78 : YrSold\n",
      "79 : SaleType\n",
      "80 : SaleCondition\n",
      "81 : SalePrice\n"
     ]
    }
   ],
   "source": [
    "for (index, colname) in enumerate(dataTrain.columns):\n",
    "    print \"%0.2d : %s\" % (index +1, colname)"
   ]
  },
  {
   "cell_type": "markdown",
   "metadata": {},
   "source": [
    "## Visualizations\n"
   ]
  },
  {
   "cell_type": "code",
   "execution_count": 44,
   "metadata": {
    "collapsed": false
   },
   "outputs": [
    {
     "data": {
      "text/plain": [
       "<seaborn.axisgrid.JointGrid at 0x125d969d0>"
      ]
     },
     "execution_count": 44,
     "metadata": {},
     "output_type": "execute_result"
    },
    {
     "data": {
      "image/png": "[encoded data removed]",
      "text/plain": [
       "<matplotlib.figure.Figure at 0x125d96f10>"
      ]
     },
     "metadata": {},
     "output_type": "display_data"
    }
   ],
   "source": [
    "x = \"SalePrice\"\n",
    "y = \"LotArea\"\n",
    "\n",
    "# Use JointGrid directly to draw a custom plot\n",
    "grid = sns.JointGrid(x, y, space=0, size=6, ratio=50, data = dataTrain)\n",
    "grid.plot_joint(plt.scatter, color=\"g\")\n",
    "grid.plot_marginals(sns.rugplot, height=1, color=\"g\")\n",
    "\n",
    "# takes a bit to load"
   ]
  },
  {
   "cell_type": "code",
   "execution_count": 31,
   "metadata": {
    "collapsed": false
   },
   "outputs": [
    {
     "data": {
      "image/png": "[encoded data removed]",
      "text/plain": [
       "<matplotlib.figure.Figure at 0x113d3d590>"
      ]
     },
     "metadata": {},
     "output_type": "display_data"
    }
   ],
   "source": [
    "sns.distplot(dataTrain['SalePrice']);"
   ]
  }
 ],
 "metadata": {
  "kernelspec": {
   "display_name": "Python 2",
   "language": "python",
   "name": "python2"
  },
  "language_info": {
   "codemirror_mode": {
    "name": "ipython",
    "version": 2
   },
   "file_extension": ".py",
   "mimetype": "text/x-python",
   "name": "python",
   "nbconvert_exporter": "python",
   "pygments_lexer": "ipython2",
   "version": "2.7.13"
  }
 },
 "nbformat": 4,
 "nbformat_minor": 2
}
